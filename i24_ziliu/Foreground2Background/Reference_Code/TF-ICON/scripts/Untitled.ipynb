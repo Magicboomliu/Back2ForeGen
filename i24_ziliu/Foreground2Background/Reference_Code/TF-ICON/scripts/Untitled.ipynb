{
 "cells": [
  {
   "cell_type": "code",
   "execution_count": 1,
   "id": "9bbd1d8e-10cf-4d1a-a1a9-4ddc45e44e34",
   "metadata": {},
   "outputs": [
    {
     "name": "stdout",
     "output_type": "stream",
     "text": [
      "/bin/bash: line 1: conda: command not found\n"
     ]
    }
   ],
   "source": [
    "! conda "
   ]
  },
  {
   "cell_type": "code",
   "execution_count": null,
   "id": "ecc79cd3-9fd7-4752-a96c-d9efbf89f130",
   "metadata": {},
   "outputs": [],
   "source": [
    "def load_model_and_get_prompt_embedding(model, opt, device, prompts, inv=False):\n",
    "           \n",
    "    if inv:\n",
    "        inv_emb = model.get_learned_conditioning(prompts, inv)\n",
    "        c = uc = inv_emb\n",
    "    else:\n",
    "        inv_emb = None\n",
    "        \n",
    "    if opt.scale != 1.0:\n",
    "        uc = model.get_learned_conditioning(opt.n_samples * [\"\"])\n",
    "    else:\n",
    "        uc = None\n",
    "    c = model.get_learned_conditioning(prompts)\n",
    "        \n",
    "    return c, uc, inv_emb\n",
    "\n",
    "\n",
    "\n",
    "ckpt = \"v2-1_512-ema-pruned.ckpt\" # StableDiffusionV2\n",
    "\n",
    "config = OmegaConf.load(opt.config)\n",
    "model = load_model_from_config(config, opt.ckpt, opt.gpu)    \n",
    "model = model.to(device)\n",
    "sampler = DPMSolverSampler(model)\n",
    "c, uc, inv_emb = load_model_and_get_prompt_embedding(model, opt, device, prompts, inv=True)"
   ]
  }
 ],
 "metadata": {
  "kernelspec": {
   "display_name": "Python 3 (ipykernel)",
   "language": "python",
   "name": "python3"
  },
  "language_info": {
   "codemirror_mode": {
    "name": "ipython",
    "version": 3
   },
   "file_extension": ".py",
   "mimetype": "text/x-python",
   "name": "python",
   "nbconvert_exporter": "python",
   "pygments_lexer": "ipython3",
   "version": "3.11.9"
  }
 },
 "nbformat": 4,
 "nbformat_minor": 5
}
